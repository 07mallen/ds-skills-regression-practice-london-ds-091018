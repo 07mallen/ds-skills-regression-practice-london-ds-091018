{
 "cells": [
  {
   "cell_type": "markdown",
   "metadata": {},
   "source": [
    "# Midterm Practice: Predicting Boston Home Values\n",
    "\n",
    "In this lab, we are predicting the natural log of the sum of all transactions per user. This is a great chance to practice all of our skills to date in order to create a regression model.\n",
    "  \n",
    "# Variable Descriptions\n",
    "\n",
    "This data frame contains the following columns:\n",
    "\n",
    "#### crim  \n",
    "per capita crime rate by town.\n",
    "\n",
    "#### zn  \n",
    "proportion of residential land zoned for lots over 25,000 sq.ft.\n",
    "\n",
    "#### indus  \n",
    "proportion of non-retail business acres per town.\n",
    "\n",
    "#### chas  \n",
    "Charles River dummy variable (= 1 if tract bounds river; 0 otherwise).\n",
    "\n",
    "#### nox  \n",
    "nitrogen oxides concentration (parts per 10 million).\n",
    "\n",
    "#### rm  \n",
    "average number of rooms per dwelling.\n",
    "\n",
    "#### age  \n",
    "proportion of owner-occupied units built prior to 1940.\n",
    "\n",
    "#### dis  \n",
    "weighted mean of distances to five Boston employment centres.\n",
    "\n",
    "#### rad  \n",
    "index of accessibility to radial highways.\n",
    "\n",
    "#### tax  \n",
    "full-value property-tax rate per $10,000.\n",
    "\n",
    "#### ptratio  \n",
    "pupil-teacher ratio by town.\n",
    "\n",
    "#### black  \n",
    "1000(Bk - 0.63)^2 where Bk is the proportion of blacks by town.\n",
    "\n",
    "#### lstat  \n",
    "lower status of the population (percent).\n",
    "\n",
    "#### medv  \n",
    "median value of owner-occupied homes in $10000s.\n",
    "  \n",
    "  \n",
    "  \n",
    "Source\n",
    "Harrison, D. and Rubinfeld, D.L. (1978) Hedonic prices and the demand for clean air. J. Environ. Economics and Management 5, 81–102.\n",
    "\n",
    "Belsley D.A., Kuh, E. and Welsch, R.E. (1980) Regression Diagnostics. Identifying Influential Data and Sources of Collinearity. New York: Wiley."
   ]
  },
  {
   "cell_type": "markdown",
   "metadata": {},
   "source": [
    "# Import Data"
   ]
  },
  {
   "cell_type": "code",
   "execution_count": 2,
   "metadata": {
    "collapsed": true
   },
   "outputs": [],
   "source": [
    "import pandas as pd\n",
    "from sklearn.model_selection import train_test_split\n",
    "from sklearn.linear_model import LinearRegression, Lasso, LassoCV, Ridge, RidgeCV\n",
    "from sklearn.metrics import mean_squared_error"
   ]
  },
  {
   "cell_type": "code",
   "execution_count": 27,
   "metadata": {},
   "outputs": [
    {
     "name": "stdout",
     "output_type": "stream",
     "text": [
      "333\n"
     ]
    },
    {
     "data": {
      "text/html": [
       "<div>\n",
       "<style>\n",
       "    .dataframe thead tr:only-child th {\n",
       "        text-align: right;\n",
       "    }\n",
       "\n",
       "    .dataframe thead th {\n",
       "        text-align: left;\n",
       "    }\n",
       "\n",
       "    .dataframe tbody tr th {\n",
       "        vertical-align: top;\n",
       "    }\n",
       "</style>\n",
       "<table border=\"1\" class=\"dataframe\">\n",
       "  <thead>\n",
       "    <tr style=\"text-align: right;\">\n",
       "      <th></th>\n",
       "      <th>ID</th>\n",
       "      <th>crim</th>\n",
       "      <th>zn</th>\n",
       "      <th>indus</th>\n",
       "      <th>chas</th>\n",
       "      <th>nox</th>\n",
       "      <th>rm</th>\n",
       "      <th>age</th>\n",
       "      <th>dis</th>\n",
       "      <th>rad</th>\n",
       "      <th>tax</th>\n",
       "      <th>ptratio</th>\n",
       "      <th>black</th>\n",
       "      <th>lstat</th>\n",
       "      <th>medv</th>\n",
       "    </tr>\n",
       "  </thead>\n",
       "  <tbody>\n",
       "    <tr>\n",
       "      <th>0</th>\n",
       "      <td>1</td>\n",
       "      <td>0.00632</td>\n",
       "      <td>18.0</td>\n",
       "      <td>2.31</td>\n",
       "      <td>0</td>\n",
       "      <td>0.538</td>\n",
       "      <td>6.575</td>\n",
       "      <td>65.2</td>\n",
       "      <td>4.0900</td>\n",
       "      <td>1</td>\n",
       "      <td>296</td>\n",
       "      <td>15.3</td>\n",
       "      <td>396.90</td>\n",
       "      <td>4.98</td>\n",
       "      <td>24.0</td>\n",
       "    </tr>\n",
       "    <tr>\n",
       "      <th>1</th>\n",
       "      <td>2</td>\n",
       "      <td>0.02731</td>\n",
       "      <td>0.0</td>\n",
       "      <td>7.07</td>\n",
       "      <td>0</td>\n",
       "      <td>0.469</td>\n",
       "      <td>6.421</td>\n",
       "      <td>78.9</td>\n",
       "      <td>4.9671</td>\n",
       "      <td>2</td>\n",
       "      <td>242</td>\n",
       "      <td>17.8</td>\n",
       "      <td>396.90</td>\n",
       "      <td>9.14</td>\n",
       "      <td>21.6</td>\n",
       "    </tr>\n",
       "    <tr>\n",
       "      <th>2</th>\n",
       "      <td>4</td>\n",
       "      <td>0.03237</td>\n",
       "      <td>0.0</td>\n",
       "      <td>2.18</td>\n",
       "      <td>0</td>\n",
       "      <td>0.458</td>\n",
       "      <td>6.998</td>\n",
       "      <td>45.8</td>\n",
       "      <td>6.0622</td>\n",
       "      <td>3</td>\n",
       "      <td>222</td>\n",
       "      <td>18.7</td>\n",
       "      <td>394.63</td>\n",
       "      <td>2.94</td>\n",
       "      <td>33.4</td>\n",
       "    </tr>\n",
       "    <tr>\n",
       "      <th>3</th>\n",
       "      <td>5</td>\n",
       "      <td>0.06905</td>\n",
       "      <td>0.0</td>\n",
       "      <td>2.18</td>\n",
       "      <td>0</td>\n",
       "      <td>0.458</td>\n",
       "      <td>7.147</td>\n",
       "      <td>54.2</td>\n",
       "      <td>6.0622</td>\n",
       "      <td>3</td>\n",
       "      <td>222</td>\n",
       "      <td>18.7</td>\n",
       "      <td>396.90</td>\n",
       "      <td>5.33</td>\n",
       "      <td>36.2</td>\n",
       "    </tr>\n",
       "    <tr>\n",
       "      <th>4</th>\n",
       "      <td>7</td>\n",
       "      <td>0.08829</td>\n",
       "      <td>12.5</td>\n",
       "      <td>7.87</td>\n",
       "      <td>0</td>\n",
       "      <td>0.524</td>\n",
       "      <td>6.012</td>\n",
       "      <td>66.6</td>\n",
       "      <td>5.5605</td>\n",
       "      <td>5</td>\n",
       "      <td>311</td>\n",
       "      <td>15.2</td>\n",
       "      <td>395.60</td>\n",
       "      <td>12.43</td>\n",
       "      <td>22.9</td>\n",
       "    </tr>\n",
       "  </tbody>\n",
       "</table>\n",
       "</div>"
      ],
      "text/plain": [
       "   ID     crim    zn  indus  chas    nox     rm   age     dis  rad  tax  \\\n",
       "0   1  0.00632  18.0   2.31     0  0.538  6.575  65.2  4.0900    1  296   \n",
       "1   2  0.02731   0.0   7.07     0  0.469  6.421  78.9  4.9671    2  242   \n",
       "2   4  0.03237   0.0   2.18     0  0.458  6.998  45.8  6.0622    3  222   \n",
       "3   5  0.06905   0.0   2.18     0  0.458  7.147  54.2  6.0622    3  222   \n",
       "4   7  0.08829  12.5   7.87     0  0.524  6.012  66.6  5.5605    5  311   \n",
       "\n",
       "   ptratio   black  lstat  medv  \n",
       "0     15.3  396.90   4.98  24.0  \n",
       "1     17.8  396.90   9.14  21.6  \n",
       "2     18.7  394.63   2.94  33.4  \n",
       "3     18.7  396.90   5.33  36.2  \n",
       "4     15.2  395.60  12.43  22.9  "
      ]
     },
     "execution_count": 27,
     "metadata": {},
     "output_type": "execute_result"
    }
   ],
   "source": [
    "df = pd.read_csv('train.csv')\n",
    "print(len(df))\n",
    "df.head()"
   ]
  },
  {
   "cell_type": "markdown",
   "metadata": {},
   "source": [
    "# Define Variables, Create an Initial Model and Measuring Model Performance"
   ]
  },
  {
   "cell_type": "code",
   "execution_count": 44,
   "metadata": {},
   "outputs": [
    {
     "name": "stdout",
     "output_type": "stream",
     "text": [
      "Model Stats for: OLS\n",
      "Train R^2: 0.758054273425\n",
      "Test R^2: 0.589806314045\n",
      "Training MSE: 22.185666473395543\n",
      "Testing MSE: 23.82839479870425\n",
      "\n",
      "\n",
      "Model Stats for: Lasso\n",
      "Train R^2: 0.702894743674\n",
      "Test R^2: 0.597970726305\n",
      "Training MSE: 27.243622847308835\n",
      "Testing MSE: 23.35411924228334\n",
      "\n",
      "\n",
      "Model Stats for: Ridge\n",
      "Train R^2: 0.756348622343\n",
      "Test R^2: 0.576741606714\n",
      "Training MSE: 22.342069343395092\n",
      "Testing MSE: 24.587331405646232\n",
      "\n",
      "\n"
     ]
    }
   ],
   "source": [
    "X = df.drop('medv', axis=1)\n",
    "y = df.medv\n",
    "X_train, X_test, y_train, y_test = train_test_split(X, y)\n",
    "models = [LinearRegression(), Lasso(), Ridge()]\n",
    "names = ['OLS', 'Lasso', 'Ridge']\n",
    "for model, name in list(zip(models, names)):\n",
    "    model.fit(X_train, y_train)\n",
    "    y_hat_train = model.predict(X_train)\n",
    "    y_hat_test = model.predict(X_test) \n",
    "    print('Model Stats for: {}'.format(name))\n",
    "    print('Train R^2:', model.score(X_train, y_train))\n",
    "    print('Test R^2:', model.score(X_test, y_test))\n",
    "    print('Training MSE: {}'.format(mean_squared_error(y_train, y_hat_train)))\n",
    "    print('Testing MSE: {}'.format(mean_squared_error(y_test, y_hat_test)))\n",
    "    print('\\n')    "
   ]
  },
  {
   "cell_type": "markdown",
   "metadata": {},
   "source": [
    "# Using Cross Validation"
   ]
  },
  {
   "cell_type": "code",
   "execution_count": 45,
   "metadata": {},
   "outputs": [
    {
     "name": "stdout",
     "output_type": "stream",
     "text": [
      "Model Stats for: LassoCV\n",
      "Train R^2: 0.721750092652\n",
      "Test R^2: 0.596327463172\n",
      "Training MSE: 25.514646313709015\n",
      "Testing MSE: 23.44957737352332\n",
      "Model details: LassoCV(alphas=None, copy_X=True, cv=None, eps=0.001, fit_intercept=True,\n",
      "    max_iter=1000, n_alphas=100, n_jobs=1, normalize=False, positive=False,\n",
      "    precompute='auto', random_state=None, selection='cyclic', tol=0.0001,\n",
      "    verbose=False)\n",
      "\n",
      "\n"
     ]
    }
   ],
   "source": [
    "model = LassoCV()\n",
    "model.fit(X_train, y_train)\n",
    "y_hat_train = model.predict(X_train)\n",
    "y_hat_test = model.predict(X_test) \n",
    "print('Model Stats for: {}'.format('LassoCV'))\n",
    "print('Train R^2:', model.score(X_train, y_train))\n",
    "print('Test R^2:', model.score(X_test, y_test))\n",
    "print('Training MSE: {}'.format(mean_squared_error(y_train, y_hat_train)))\n",
    "print('Testing MSE: {}'.format(mean_squared_error(y_test, y_hat_test)))\n",
    "print('Model details:', model)\n",
    "print('\\n')    "
   ]
  },
  {
   "cell_type": "code",
   "execution_count": 46,
   "metadata": {},
   "outputs": [
    {
     "data": {
      "text/plain": [
       "0.71924211867550536"
      ]
     },
     "execution_count": 46,
     "metadata": {},
     "output_type": "execute_result"
    }
   ],
   "source": [
    "model.alpha_"
   ]
  },
  {
   "cell_type": "code",
   "execution_count": 47,
   "metadata": {},
   "outputs": [
    {
     "name": "stdout",
     "output_type": "stream",
     "text": [
      "Model Stats for: RidgeCV\n",
      "Train R^2: 0.757976640872\n",
      "Test R^2: 0.587401715281\n",
      "Training MSE: 22.192785135723614\n",
      "Testing MSE: 23.96807936877122\n",
      "Model details: RidgeCV(alphas=(0.1, 1.0, 10.0), cv=None, fit_intercept=True, gcv_mode=None,\n",
      "    normalize=False, scoring=None, store_cv_values=False)\n",
      "\n",
      "\n"
     ]
    }
   ],
   "source": [
    "model = RidgeCV()\n",
    "model.fit(X_train, y_train)\n",
    "y_hat_train = model.predict(X_train)\n",
    "y_hat_test = model.predict(X_test) \n",
    "print('Model Stats for: {}'.format('RidgeCV'))\n",
    "print('Train R^2:', model.score(X_train, y_train))\n",
    "print('Test R^2:', model.score(X_test, y_test))\n",
    "print('Training MSE: {}'.format(mean_squared_error(y_train, y_hat_train)))\n",
    "print('Testing MSE: {}'.format(mean_squared_error(y_test, y_hat_test)))\n",
    "print('Model details:', model)\n",
    "print('\\n')    "
   ]
  },
  {
   "cell_type": "code",
   "execution_count": 48,
   "metadata": {},
   "outputs": [
    {
     "data": {
      "text/plain": [
       "0.10000000000000001"
      ]
     },
     "execution_count": 48,
     "metadata": {},
     "output_type": "execute_result"
    }
   ],
   "source": [
    "model.alpha_"
   ]
  },
  {
   "cell_type": "markdown",
   "metadata": {},
   "source": [
    "# Feature Engineering + Refinements"
   ]
  },
  {
   "cell_type": "code",
   "execution_count": 40,
   "metadata": {
    "collapsed": true
   },
   "outputs": [],
   "source": [
    "import pandas as pd\n",
    "import matplotlib.pyplot as plt\n",
    "import numpy as np\n",
    "from sklearn.linear_model import Ridge\n",
    "from sklearn.preprocessing import PolynomialFeatures\n",
    "from sklearn.pipeline import make_pipeline\n",
    "import seaborn as sns\n",
    "%matplotlib inline"
   ]
  },
  {
   "cell_type": "code",
   "execution_count": 49,
   "metadata": {},
   "outputs": [
    {
     "data": {
      "text/plain": [
       "<matplotlib.legend.Legend at 0x264525ed710>"
      ]
     },
     "execution_count": 49,
     "metadata": {},
     "output_type": "execute_result"
    },
    {
     "data": {
      "image/png": "[encoded data removed]",
      "text/plain": [
       "<matplotlib.figure.Figure at 0x26452371748>"
      ]
     },
     "metadata": {},
     "output_type": "display_data"
    }
   ],
   "source": [
    "#Fill Null Values and Normalize\n",
    "for col in X.columns:\n",
    "    avg = X[col].mean()\n",
    "    X[col] = X[col].fillna(value=avg)\n",
    "    minimum = X[col].min()\n",
    "    maximum = X[col].max()\n",
    "    range_ = maximum - minimum\n",
    "    X[col] = X[col].map(lambda x: (x-minimum)/range_)\n",
    "\n",
    "# Test/train split\n",
    "X_train, X_test, y_train, y_test = train_test_split(X, y)\n",
    "\n",
    "# Make a pipeline model with polynomial transformation\n",
    "#Currently with basic ridge.\n",
    "#Could use and LASSO regression with cross-validation, (included in comments)\n",
    "degree_min = 2\n",
    "degree_max=5\n",
    "\n",
    "degrees = []\n",
    "train_errs = []\n",
    "test_errs = []\n",
    "for degree in range(degree_min,degree_max+1):\n",
    "    model = make_pipeline(PolynomialFeatures(degree, interaction_only=False),\n",
    "                          Ridge()\n",
    "                         )\n",
    "    #Could replace Ridge() above with a more complicated cross validation method to improve tuning\n",
    "    #using a cross validation method will substantially increase runtime\n",
    "    model.fit(X_train,y_train)\n",
    "    #Get r^2 values for testing predictions and training predictions\n",
    "    test_score = model.score(X_test,y_test)\n",
    "    test_errs.append(test_score)\n",
    "    \n",
    "    train_score = model.score(X_train,y_train)\n",
    "    train_errs.append(train_score)\n",
    "    \n",
    "    degrees.append(degree)\n",
    "#Create Plot\n",
    "plt.scatter(degrees, train_errs, label='Train R^2')\n",
    "plt.scatter(degrees, test_errs, label='Test R^2')\n",
    "plt.title('Train and Test Accuracy vs Model Complexity')\n",
    "plt.xlabel('Maximum Degree of Polynomial Regression')\n",
    "plt.legend()"
   ]
  },
  {
   "cell_type": "markdown",
   "metadata": {},
   "source": [
    "# Comment:\n",
    "\n",
    "While training accuracy continues to improve with model complexity, we see diminished returns after degree 3 leading us to believe the model is overfit past that point. As such, we will try and finalize our model using a polynomial of degree3."
   ]
  },
  {
   "cell_type": "code",
   "execution_count": 51,
   "metadata": {},
   "outputs": [
    {
     "name": "stdout",
     "output_type": "stream",
     "text": [
      "R^2 Test: 0.880946692601\n",
      "R^2 Train: 0.912530889575\n",
      "Model Stats for: LassoCV\n",
      "Training MSE: 7.745842740241759\n",
      "Testing MSE: 8.257271488476025\n",
      "Model details: Pipeline(memory=None,\n",
      "     steps=[('polynomialfeatures', PolynomialFeatures(degree=3, include_bias=True, interaction_only=False)), ('ridge', Ridge(alpha=1.0, copy_X=True, fit_intercept=True, max_iter=None,\n",
      "   normalize=False, random_state=None, solver='auto', tol=0.001))])\n",
      "\n",
      "\n"
     ]
    }
   ],
   "source": [
    "model = make_pipeline(PolynomialFeatures(3, interaction_only=False),\n",
    "                          Ridge()\n",
    "                         )\n",
    "#Could replace Ridge() above with a more complicated cross validation method to improve tuning\n",
    "#using a cross validation method will substantially increase runtime\n",
    "model.fit(X_train,y_train)\n",
    "test_score = model.score(X_test,y_test)\n",
    "print('R^2 Test:', test_score)\n",
    "train_score = model.score(X_train,y_train)\n",
    "print('R^2 Train:', train_score)\n",
    "y_hat_train = model.predict(X_train)\n",
    "y_hat_test = model.predict(X_test) \n",
    "print('Model Stats for: {}'.format('LassoCV'))\n",
    "print('Training MSE: {}'.format(mean_squared_error(y_train, y_hat_train)))\n",
    "print('Testing MSE: {}'.format(mean_squared_error(y_test, y_hat_test)))\n",
    "print('Model details:', model)\n",
    "print('\\n')    "
   ]
  },
  {
   "cell_type": "markdown",
   "metadata": {},
   "source": [
    "# Additional Notes / Comments\n",
    "Much more work could still be done. Building a model is an ongoing process of refinement and is often terminated early due to time constraints or satisfaction with the model results. \n",
    "\n",
    "https://www.kaggle.com/c/boston-housing"
   ]
  },
  {
   "cell_type": "code",
   "execution_count": null,
   "metadata": {
    "collapsed": true
   },
   "outputs": [],
   "source": []
  }
 ],
 "metadata": {
  "kernelspec": {
   "display_name": "Python 3",
   "language": "python",
   "name": "python3"
  },
  "language_info": {
   "codemirror_mode": {
    "name": "ipython",
    "version": 3
   },
   "file_extension": ".py",
   "mimetype": "text/x-python",
   "name": "python",
   "nbconvert_exporter": "python",
   "pygments_lexer": "ipython3",
   "version": "3.6.2"
  }
 },
 "nbformat": 4,
 "nbformat_minor": 2
}
